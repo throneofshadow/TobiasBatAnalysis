{
 "cells": [
  {
   "cell_type": "code",
   "execution_count": 1,
   "metadata": {},
   "outputs": [],
   "source": [
    "import numpy as np\n",
    "import os\n",
    "import pickle\n",
    "import matplotlib.pyplot as plt\n",
    "import pandas as pd\n",
    "from soundsig.sound import BioSound \n",
    "from soundsig.sound import WavFile\n",
    "import os\n",
    "%matplotlib inline\n",
    "from sklearn.multiclass import OneVsOneClassifier\n",
    "\n",
    "\n"
   ]
  },
  {
   "cell_type": "code",
   "execution_count": null,
   "metadata": {},
   "outputs": [],
   "source": [
    "os.chdir('/mnt/c/Users/bassp/Downloads/Python Work/bat_data/')\n",
    "y=pd.read_pickle('calltype.pkl')\n",
    "df = pd.read_pickle('mps_spec_pcadf.pkl')\n",
    "\n",
    "bigX=df.replace([np.inf, -np.inf], np.nan).fillna(0).astype('float').abs().as_matrix()\n",
    "XFeatureNames = list(df.columns)\n",
    "labels,uniques=factorize(y.replace([np.inf, -np.inf], np.nan).fillna(0).astype('float').abs().replace(['new','trill','short'],'call'].as_matrix())"
   ]
  },
  {
   "cell_type": "code",
   "execution_count": null,
   "metadata": {},
   "outputs": [],
   "source": [
    "# run PCA on data, see if there's a nice split between noise and the other files.\n",
    "\n",
    "pca2 = PCA(n_components=30)\n",
    "\n",
    "Xr2 = pca.fit_transform(bigX)\n",
    "\n",
    "color= ['red' if l == 'short' else 'green' if l == 'trill' else 'blue' for l in y]\n",
    "plt.scatter(Xr2[:, 0], Xr2[:, 1],color=color)\n",
    "plt.xlabel('component 1')\n",
    "plt.ylabel('component 2')\n",
    "\n",
    "plt.legend(leg)\n"
   ]
  },
  {
   "cell_type": "code",
   "execution_count": null,
   "metadata": {},
   "outputs": [],
   "source": [
    "#X_train, X_test, y_train, y_test = train_test_split(bigX[0:152], labels, test_size=0.15, random_state=0)  \n",
    "#from sklearn.preprocessing import StandardScaler\n",
    "\n",
    "#sc = StandardScaler()  \n",
    "#X_train = sc.fit_transform(X_train)  \n",
    "#X_test = sc.transform(X_test)  \n",
    "OneVsOneClassifier(LinearSVC(random_state=0)).fit(bigX, labels).predict(BigX)"
   ]
  }
 ],
 "metadata": {
  "kernelspec": {
   "display_name": "Python 3",
   "language": "python",
   "name": "python3"
  },
  "language_info": {
   "codemirror_mode": {
    "name": "ipython",
    "version": 2
   },
   "file_extension": ".py",
   "mimetype": "text/x-python",
   "name": "python",
   "nbconvert_exporter": "python",
   "pygments_lexer": "ipython2",
   "version": "2.7.15"
  }
 },
 "nbformat": 4,
 "nbformat_minor": 2
}

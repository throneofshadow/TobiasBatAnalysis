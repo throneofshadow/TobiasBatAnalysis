{
 "cells": [
  {
   "cell_type": "code",
   "execution_count": 1,
   "metadata": {},
   "outputs": [],
   "source": [
    "import numpy as np\n",
    "import os\n",
    "import pickle\n",
    "import matplotlib.pyplot as plt\n",
    "import pandas as pd\n",
    "from soundsig.sound import BioSound \n",
    "from soundsig.sound import WavFile\n",
    "import os\n",
    "%matplotlib inline\n"
   ]
  },
  {
   "cell_type": "code",
   "execution_count": 2,
   "metadata": {},
   "outputs": [],
   "source": [
    "from IPython.core.debugger import set_trace"
   ]
  },
  {
   "cell_type": "code",
   "execution_count": 17,
   "metadata": {},
   "outputs": [
    {
     "name": "stdout",
     "output_type": "stream",
     "text": [
      "Allocated space for all spectrograms\n"
     ]
    }
   ],
   "source": [
    "\"\"\" Make sure to set your directory to the directory containing our .h5 files we want.\"\"\"\n",
    "\"\"\" We can loop over an entire dataset or pick from components or specific files of interest.\"\"\"\n",
    "# vocSelData is going to be a list of dictionary containing the values that we are going to extract from each BioSound object.\n",
    "vocSelData1 = [];\n",
    "normFlg=True;\n",
    "# change directory \n",
    "os.chdir('/mnt/c/Users/bassp/Downloads/Python Work/bat_data/sample_pre/sample_pre/')\n",
    "# load in text file for shifts\n",
    "f = open(\"fname_list_preshift.txt\")\n",
    "lines = f.readlines()\n",
    "mylist = [item.rstrip('\\n') for item in lines]\n",
    "lines = np.asarray(mylist)\n",
    "\n",
    "shapeSpectro = []\n",
    "count_1 =0\n",
    "# make room for spectrograms\n",
    "for fname in os.listdir('.'):\n",
    "    if fname.endswith('.h5'):\n",
    "        \n",
    "        \n",
    "        # Allocate object and read data\n",
    "        myBioSound = BioSound()\n",
    "        myBioSound.readh5(fname)\n",
    "        shapeSpectro.append(myBioSound.spectro.shape)\n",
    "        count_1 += 1\n",
    "\n",
    "shapeSpectro.sort()\n",
    "shapeDesired = shapeSpectro[0]\n",
    "\n",
    "\n",
    "#X = np.zeros((count_1, shapeDesired[0]*shapeDesired[1]))\n",
    "\n",
    "print('Allocated space for all spectrograms')\n",
    "# Looping through all the files\n",
    "\n",
    "count = 0\n",
    "\n",
    "for fname in os.listdir('.'):\n",
    "    if fname.endswith('.h5'):\n",
    "        \n",
    "        \n",
    "        \n",
    "        \n",
    "        name = lines[count];\n",
    "        count +=1\n",
    "        \n",
    "        calltype = lines[count];\n",
    "        count +=1\n",
    "        \n",
    "        \n",
    "        \n",
    "        # Allocate object and read data\n",
    "        myBioSound = BioSound()\n",
    "        myBioSound.readh5(fname)\n",
    "        shift = 'preshift'\n",
    "        # Take the time average formants \n",
    "        meanF1 = np.mean(myBioSound.F1[~np.isnan(myBioSound.F1)])\n",
    "        meanF2 = np.mean(myBioSound.F2[~np.isnan(myBioSound.F2)])\n",
    "        meanF3 = np.mean(myBioSound.F3[~np.isnan(myBioSound.F3)])\n",
    "        #### spectro code\n",
    "        \n",
    "\n",
    "            \n",
    "       \n",
    "        X = myBioSound.spectro\n",
    "        #X[count,:] = np.ravel(myBioSound.spectro[0:shapeDesired[0], 0:shapeDesired[1]])\n",
    "        \n",
    "        \n",
    "       \n",
    "        # Get values for the fundamental\n",
    "        if myBioSound.fund is not None:\n",
    "            \n",
    "            fund = (myBioSound.fund)\n",
    "            \n",
    "            fund2 = (myBioSound.fund2)\n",
    "            kspec = (myBioSound.kurtosisspect)\n",
    "            espec = (myBioSound.entropyspect)\n",
    "            meanspec = (myBioSound.meanspect)\n",
    "            skewspec = (myBioSound.skewspect)\n",
    "            stdspec = (myBioSound.stdspect)\n",
    "            cvfund = (myBioSound.cvfund)\n",
    "            maxfund = (myBioSound.maxfund)\n",
    "            minfund = (myBioSound.minfund)\n",
    "            \n",
    "            f0 = np.ravel(np.mean(myBioSound.f0[~np.isnan(myBioSound.f0)]))\n",
    "            f0_2 = np.mean(myBioSound.f0_2[~np.isnan(myBioSound.f0_2)])\n",
    "            sal = (myBioSound.sal)  \n",
    "                           \n",
    "        else:\n",
    "            fund = None \n",
    "            cvfund = None   \n",
    "        mps = myBioSound.mps\n",
    "        vocSelData1.append({ \n",
    "                     \"fund\": fund, \n",
    "                     \"cvfund\": cvfund, \"maxfund\": maxfund, \"minfund\": minfund,\n",
    "                     \"F1\": meanF1, \"F2\": meanF2, \"F3\":meanF3,\n",
    "                      \"rms\": (myBioSound.rms), \n",
    "                     \"maxAmp\": (myBioSound.maxAmp),\n",
    "                     \"meanS\": (myBioSound.meanspect), \"stdS\": (myBioSound.stdspect),\n",
    "                     \"skewS\": (myBioSound.skewspect), \"kurtS\": (myBioSound.kurtosisspect), \n",
    "                     \"entS\": (myBioSound.entropyspect),\n",
    "                     \"q1\": (myBioSound.q1), \"q2\": (myBioSound.q2), \"q3\": (myBioSound.q3),                  \n",
    "                     \"meanT\": (myBioSound.meantime), \"stdT\": (myBioSound.stdtime),\n",
    "                     \"skewT\": (myBioSound.skewtime), \"kurtT\": (myBioSound.kurtosistime),\n",
    "                     \"entT\": (myBioSound.entropytime), \"spectro\": X, \n",
    "                     \"mps\": mps , \"f0_2\": f0_2, \"sal\": sal, \"f0\": f0,  \"shift\":shift, \"name\":name,\"type\":calltype\n",
    "                      \n",
    "})\n",
    "\n",
    "# Make a panda data frame with all the data                    \n",
    "#vocSelTable = pd.DataFrame(vocSelData)\n"
   ]
  },
  {
   "cell_type": "code",
   "execution_count": 18,
   "metadata": {},
   "outputs": [],
   "source": [
    "# save variable\n",
    "vocSelTable1 = pd.DataFrame(vocSelData1)\n",
    "#vocSelTable.to_pickle('df2025.pkl')\n",
    "df = pd.concat([df,vocSelTable1])\n",
    "# Note, you can load in each of the dataframes for each shift and then concat them together\n",
    "# See pandas documentation for correct orientation of data."
   ]
  },
  {
   "cell_type": "code",
   "execution_count": null,
   "metadata": {},
   "outputs": [],
   "source": [
    "# load in original df here. \n",
    "df_pca = pd.read_pickle('dfpca.pkl')"
   ]
  },
  {
   "cell_type": "markdown",
   "metadata": {},
   "source": [
    "### I modified original df to replace nan with 0, also dropped F3 since it was mostly junk\n",
    "#### Now I will create a PCA df with the call type/shift etc dropped"
   ]
  },
  {
   "cell_type": "code",
   "execution_count": 63,
   "metadata": {},
   "outputs": [
    {
     "data": {
      "text/html": [
       "<div>\n",
       "<style scoped>\n",
       "    .dataframe tbody tr th:only-of-type {\n",
       "        vertical-align: middle;\n",
       "    }\n",
       "\n",
       "    .dataframe tbody tr th {\n",
       "        vertical-align: top;\n",
       "    }\n",
       "\n",
       "    .dataframe thead th {\n",
       "        text-align: right;\n",
       "    }\n",
       "</style>\n",
       "<table border=\"1\" class=\"dataframe\">\n",
       "  <thead>\n",
       "    <tr style=\"text-align: right;\">\n",
       "      <th></th>\n",
       "      <th>F1</th>\n",
       "      <th>F2</th>\n",
       "      <th>F3</th>\n",
       "      <th>cvfund</th>\n",
       "      <th>entS</th>\n",
       "      <th>entT</th>\n",
       "      <th>f0</th>\n",
       "      <th>f0_2</th>\n",
       "      <th>fund</th>\n",
       "      <th>kurtS</th>\n",
       "      <th>...</th>\n",
       "      <th>q3</th>\n",
       "      <th>rms</th>\n",
       "      <th>sal</th>\n",
       "      <th>shift</th>\n",
       "      <th>skewS</th>\n",
       "      <th>skewT</th>\n",
       "      <th>spectro</th>\n",
       "      <th>stdS</th>\n",
       "      <th>stdT</th>\n",
       "      <th>type</th>\n",
       "    </tr>\n",
       "  </thead>\n",
       "  <tbody>\n",
       "  </tbody>\n",
       "</table>\n",
       "<p>0 rows × 30 columns</p>\n",
       "</div>"
      ],
      "text/plain": [
       "Empty DataFrame\n",
       "Columns: [F1, F2, F3, cvfund, entS, entT, f0, f0_2, fund, kurtS, kurtT, maxAmp, maxfund, meanS, meanT, minfund, mps, name, q1, q2, q3, rms, sal, shift, skewS, skewT, spectro, stdS, stdT, type]\n",
       "Index: []\n",
       "\n",
       "[0 rows x 30 columns]"
      ]
     },
     "execution_count": 63,
     "metadata": {},
     "output_type": "execute_result"
    }
   ],
   "source": [
    "df_pca = df.drop(columns=['shift','type','name','F3','spectro','mps','f0'])\n",
    "\n",
    "\n"
   ]
  },
  {
   "cell_type": "code",
   "execution_count": 84,
   "metadata": {},
   "outputs": [],
   "source": [
    "from sklearn.decomposition import PCA\n",
    "from scipy.stats.mstats import zscore\n",
    "\n",
    "X_pca = df_pca.replace([np.inf, -np.inf], np.nan).fillna(0).astype('float').abs().as_matrix()\n",
    "nPcs = 5\n",
    "pca = PCA(n_components=nPcs)\n",
    "Xr = pca.fit_transform(X_pca)"
   ]
  },
  {
   "cell_type": "code",
   "execution_count": 93,
   "metadata": {},
   "outputs": [
    {
     "data": {
      "image/png": "[encoded data removed]",
      "text/plain": [
       "<Figure size 432x288 with 2 Axes>"
      ]
     },
     "metadata": {
      "needs_background": "light"
     },
     "output_type": "display_data"
    }
   ],
   "source": [
    "colors = np.random.rand(191)\n",
    "\n",
    "plt.scatter(Xr[:, 0], Xr[:, 1],c=colors,cmap='viridis')\n",
    "plt.xlabel('component 1')\n",
    "plt.ylabel('component 2')\n",
    "plt.colorbar();"
   ]
  },
  {
   "cell_type": "markdown",
   "metadata": {},
   "source": [
    "#### So PCA appears to be minimally effective (~75% of variance supposedly explained. Some clustering is there, but group labels will be the key. Also, there is no MPS/Spectrogram, which means that clustering most likely will not occur through PCA without these parameters.\n",
    "\n",
    "\n",
    "\n",
    "## LDA\n",
    "\n",
    "### USING LDA with labels should be much more effective, given large differences in types of calls. I also want to use spectro/mps, so I will unpack/unravel these values from my dataframe."
   ]
  },
  {
   "cell_type": "code",
   "execution_count": 99,
   "metadata": {},
   "outputs": [
    {
     "name": "stdout",
     "output_type": "stream",
     "text": [
      "(191, 97)\n"
     ]
    }
   ],
   "source": [
    "y = pd.read_pickle('calltype.pkl')\n",
    "## Code to make MPS/spectro/f0 better behaved\n",
    "\n",
    "spectro_vals = np.array(df['spectro'])\n",
    "mps_vals = np.array(df['mps'])\n",
    "f0_vals = np.array(df['f0'])\n",
    "print (spectro_vals[1].shape)"
   ]
  },
  {
   "cell_type": "code",
   "execution_count": 120,
   "metadata": {},
   "outputs": [
    {
     "name": "stdout",
     "output_type": "stream",
     "text": [
      "(191, 305)\n"
     ]
    }
   ],
   "source": [
    "spec_len_list = []\n",
    "\n",
    "for ix in range(0,151):\n",
    "    spec_len_list.append( spectro_vals[ix].shape)\n",
    "    \n",
    "spec_len_list.sort(reverse=True)  \n",
    "dims = spec_len_list[0]\n",
    "print dims"
   ]
  },
  {
   "cell_type": "code",
   "execution_count": 121,
   "metadata": {},
   "outputs": [
    {
     "name": "stdout",
     "output_type": "stream",
     "text": [
      "(191, 121)\n"
     ]
    }
   ],
   "source": [
    "mps_len_list = []\n",
    "for iy in range(0,151):\n",
    "    mps_len_list.append(mps_vals[ix].shape)\n",
    "mps_len_list.sort(reverse=True)\n",
    "dims_mps = mps_len_list[0]\n",
    "print dims_mps"
   ]
  },
  {
   "cell_type": "code",
   "execution_count": 124,
   "metadata": {},
   "outputs": [
    {
     "name": "stdout",
     "output_type": "stream",
     "text": [
      "152\n"
     ]
    }
   ],
   "source": [
    "print len(spectro_vals)\n",
    "spec_dims = dims"
   ]
  },
  {
   "cell_type": "code",
   "execution_count": 125,
   "metadata": {},
   "outputs": [],
   "source": [
    "spec_array = np.zeros((152, 191*305))\n",
    "mps_array = np.zeros((152,191*121))\n"
   ]
  },
  {
   "cell_type": "code",
   "execution_count": 128,
   "metadata": {},
   "outputs": [
    {
     "name": "stdout",
     "output_type": "stream",
     "text": [
      "(152, 58255)\n"
     ]
    }
   ],
   "source": [
    "print spec_array.shape"
   ]
  },
  {
   "cell_type": "code",
   "execution_count": 153,
   "metadata": {},
   "outputs": [],
   "source": [
    "\n",
    "counter = 0\n",
    "for i_m in range(0,151):\n",
    "    m_val = mps_vals[i_m]\n",
    "    w,l = m_val.shape\n",
    "    try:\n",
    "        mps_array[counter,0:(w-1)*(l-1)] = np.ravel(m_val[0:w-1, 0:l-1])\n",
    "    except:\n",
    "        print (i_m,w,l)\n",
    "    counter +=1\n"
   ]
  },
  {
   "cell_type": "code",
   "execution_count": 154,
   "metadata": {},
   "outputs": [],
   "source": [
    "counter=0\n",
    "\n",
    "for i_s in range(0,151):\n",
    "    s_val = spectro_vals[i_s]\n",
    "    w,l = s_val.shape\n",
    "    spec_array[counter,0:(w-1)*(l-1)] = np.ravel(s_val[0:(w-1),0:(l-1)])\n",
    "    counter +=1\n"
   ]
  },
  {
   "cell_type": "code",
   "execution_count": 158,
   "metadata": {},
   "outputs": [],
   "source": [
    "df_mps = pd.DataFrame(mps_array)\n",
    "df_spec = pd.DataFrame(spec_array)\n"
   ]
  },
  {
   "cell_type": "code",
   "execution_count": 190,
   "metadata": {},
   "outputs": [
    {
     "data": {
      "text/html": [
       "<div>\n",
       "<style scoped>\n",
       "    .dataframe tbody tr th:only-of-type {\n",
       "        vertical-align: middle;\n",
       "    }\n",
       "\n",
       "    .dataframe tbody tr th {\n",
       "        vertical-align: top;\n",
       "    }\n",
       "\n",
       "    .dataframe thead th {\n",
       "        text-align: right;\n",
       "    }\n",
       "</style>\n",
       "<table border=\"1\" class=\"dataframe\">\n",
       "  <thead>\n",
       "    <tr style=\"text-align: right;\">\n",
       "      <th></th>\n",
       "      <th>F1</th>\n",
       "      <th>F2</th>\n",
       "      <th>cvfund</th>\n",
       "      <th>entS</th>\n",
       "      <th>entT</th>\n",
       "      <th>f0_2</th>\n",
       "      <th>fund</th>\n",
       "      <th>kurtS</th>\n",
       "      <th>kurtT</th>\n",
       "      <th>maxAmp</th>\n",
       "      <th>...</th>\n",
       "      <th>58245</th>\n",
       "      <th>58246</th>\n",
       "      <th>58247</th>\n",
       "      <th>58248</th>\n",
       "      <th>58249</th>\n",
       "      <th>58250</th>\n",
       "      <th>58251</th>\n",
       "      <th>58252</th>\n",
       "      <th>58253</th>\n",
       "      <th>58254</th>\n",
       "    </tr>\n",
       "  </thead>\n",
       "  <tbody>\n",
       "    <tr>\n",
       "      <th>0</th>\n",
       "      <td>3688.541554</td>\n",
       "      <td>4774.463782</td>\n",
       "      <td>0.046106073599665266</td>\n",
       "      <td>0.8123508863251411</td>\n",
       "      <td>0.9825346391484916</td>\n",
       "      <td>1378.054624</td>\n",
       "      <td>695.3436607747198</td>\n",
       "      <td>2.900972924433075</td>\n",
       "      <td>2.148352188999761</td>\n",
       "      <td>1807.8893093383592</td>\n",
       "      <td>...</td>\n",
       "      <td>0.0</td>\n",
       "      <td>0.0</td>\n",
       "      <td>0.0</td>\n",
       "      <td>0.0</td>\n",
       "      <td>0.0</td>\n",
       "      <td>0.0</td>\n",
       "      <td>0.0</td>\n",
       "      <td>0.0</td>\n",
       "      <td>0.0</td>\n",
       "      <td>0.0</td>\n",
       "    </tr>\n",
       "    <tr>\n",
       "      <th>1</th>\n",
       "      <td>3709.841309</td>\n",
       "      <td>4975.532236</td>\n",
       "      <td>0.22814173060081386</td>\n",
       "      <td>0.7910097814099437</td>\n",
       "      <td>0.9732295207426069</td>\n",
       "      <td>1218.974605</td>\n",
       "      <td>758.4790311228726</td>\n",
       "      <td>3.381947819343635</td>\n",
       "      <td>2.473575275319739</td>\n",
       "      <td>3453.4634875792613</td>\n",
       "      <td>...</td>\n",
       "      <td>0.0</td>\n",
       "      <td>0.0</td>\n",
       "      <td>0.0</td>\n",
       "      <td>0.0</td>\n",
       "      <td>0.0</td>\n",
       "      <td>0.0</td>\n",
       "      <td>0.0</td>\n",
       "      <td>0.0</td>\n",
       "      <td>0.0</td>\n",
       "      <td>0.0</td>\n",
       "    </tr>\n",
       "    <tr>\n",
       "      <th>2</th>\n",
       "      <td>3828.444866</td>\n",
       "      <td>4995.811641</td>\n",
       "      <td>0.09217852362447186</td>\n",
       "      <td>0.8042922309640711</td>\n",
       "      <td>0.9735727955957987</td>\n",
       "      <td>1103.977000</td>\n",
       "      <td>874.8327466627449</td>\n",
       "      <td>1.7939893038496912</td>\n",
       "      <td>2.3032840831990598</td>\n",
       "      <td>5341.610810732035</td>\n",
       "      <td>...</td>\n",
       "      <td>0.0</td>\n",
       "      <td>0.0</td>\n",
       "      <td>0.0</td>\n",
       "      <td>0.0</td>\n",
       "      <td>0.0</td>\n",
       "      <td>0.0</td>\n",
       "      <td>0.0</td>\n",
       "      <td>0.0</td>\n",
       "      <td>0.0</td>\n",
       "      <td>0.0</td>\n",
       "    </tr>\n",
       "    <tr>\n",
       "      <th>3</th>\n",
       "      <td>4000.269905</td>\n",
       "      <td>4929.627145</td>\n",
       "      <td>0.4321398633606487</td>\n",
       "      <td>0.7909745119450291</td>\n",
       "      <td>0.9735044383698301</td>\n",
       "      <td>1402.970771</td>\n",
       "      <td>856.8743417898147</td>\n",
       "      <td>1.4957178820676802</td>\n",
       "      <td>2.364995122920057</td>\n",
       "      <td>4311.060739728754</td>\n",
       "      <td>...</td>\n",
       "      <td>0.0</td>\n",
       "      <td>0.0</td>\n",
       "      <td>0.0</td>\n",
       "      <td>0.0</td>\n",
       "      <td>0.0</td>\n",
       "      <td>0.0</td>\n",
       "      <td>0.0</td>\n",
       "      <td>0.0</td>\n",
       "      <td>0.0</td>\n",
       "      <td>0.0</td>\n",
       "    </tr>\n",
       "    <tr>\n",
       "      <th>4</th>\n",
       "      <td>4195.312977</td>\n",
       "      <td>5065.690543</td>\n",
       "      <td>0.13570924753743213</td>\n",
       "      <td>0.763630286796733</td>\n",
       "      <td>0.970314172392224</td>\n",
       "      <td>NaN</td>\n",
       "      <td>790.3466600191455</td>\n",
       "      <td>3.199920992482832</td>\n",
       "      <td>2.410827596468484</td>\n",
       "      <td>5990.703440140336</td>\n",
       "      <td>...</td>\n",
       "      <td>0.0</td>\n",
       "      <td>0.0</td>\n",
       "      <td>0.0</td>\n",
       "      <td>0.0</td>\n",
       "      <td>0.0</td>\n",
       "      <td>0.0</td>\n",
       "      <td>0.0</td>\n",
       "      <td>0.0</td>\n",
       "      <td>0.0</td>\n",
       "      <td>0.0</td>\n",
       "    </tr>\n",
       "  </tbody>\n",
       "</table>\n",
       "<p>5 rows × 81389 columns</p>\n",
       "</div>"
      ],
      "text/plain": [
       "            F1           F2                cvfund                entS  \\\n",
       "0  3688.541554  4774.463782  0.046106073599665266  0.8123508863251411   \n",
       "1  3709.841309  4975.532236   0.22814173060081386  0.7910097814099437   \n",
       "2  3828.444866  4995.811641   0.09217852362447186  0.8042922309640711   \n",
       "3  4000.269905  4929.627145    0.4321398633606487  0.7909745119450291   \n",
       "4  4195.312977  5065.690543   0.13570924753743213   0.763630286796733   \n",
       "\n",
       "                 entT         f0_2               fund               kurtS  \\\n",
       "0  0.9825346391484916  1378.054624  695.3436607747198   2.900972924433075   \n",
       "1  0.9732295207426069  1218.974605  758.4790311228726   3.381947819343635   \n",
       "2  0.9735727955957987  1103.977000  874.8327466627449  1.7939893038496912   \n",
       "3  0.9735044383698301  1402.970771  856.8743417898147  1.4957178820676802   \n",
       "4   0.970314172392224          NaN  790.3466600191455   3.199920992482832   \n",
       "\n",
       "                kurtT              maxAmp  ... 58245 58246 58247 58248 58249  \\\n",
       "0   2.148352188999761  1807.8893093383592  ...   0.0   0.0   0.0   0.0   0.0   \n",
       "1   2.473575275319739  3453.4634875792613  ...   0.0   0.0   0.0   0.0   0.0   \n",
       "2  2.3032840831990598   5341.610810732035  ...   0.0   0.0   0.0   0.0   0.0   \n",
       "3   2.364995122920057   4311.060739728754  ...   0.0   0.0   0.0   0.0   0.0   \n",
       "4   2.410827596468484   5990.703440140336  ...   0.0   0.0   0.0   0.0   0.0   \n",
       "\n",
       "  58250 58251 58252 58253 58254  \n",
       "0   0.0   0.0   0.0   0.0   0.0  \n",
       "1   0.0   0.0   0.0   0.0   0.0  \n",
       "2   0.0   0.0   0.0   0.0   0.0  \n",
       "3   0.0   0.0   0.0   0.0   0.0  \n",
       "4   0.0   0.0   0.0   0.0   0.0  \n",
       "\n",
       "[5 rows x 81389 columns]"
      ]
     },
     "execution_count": 190,
     "metadata": {},
     "output_type": "execute_result"
    }
   ],
   "source": [
    "dl = dd.reset_index(drop=True)\n",
    "lda_df1 = pd.concat([dl,df_mps,df_spec], axis=1)\n",
    "lda_df1.head()"
   ]
  },
  {
   "cell_type": "code",
   "execution_count": 183,
   "metadata": {},
   "outputs": [],
   "source": []
  },
  {
   "cell_type": "code",
   "execution_count": 291,
   "metadata": {},
   "outputs": [],
   "source": [
    "fund1 = pd.DataFrame(f0_vals)\n",
    "lda_table1 = pd.concat([lda_df1,fund], axis=1)\n",
    "nospec_df1 = pd.concat([dl,df_mps,fund],axis=1)\n"
   ]
  },
  {
   "cell_type": "code",
   "execution_count": 224,
   "metadata": {},
   "outputs": [],
   "source": [
    "# try PCA on this to see if I can get better explained variance..? \n",
    "# also might try to drop spectrogram if it's shit and try with just MPS\n",
    "FeatName2 = [list(lda_table1.columns)]\n",
    "X_pca2 = [lda_table1.loc[:,col] for col in FeatName2]\n",
    "X2 = np.stack(X_pca2, axis=1)\n",
    "\n",
    "\n"
   ]
  },
  {
   "cell_type": "code",
   "execution_count": 225,
   "metadata": {},
   "outputs": [],
   "source": [
    "# components for analysis with no spectrogram variables\n",
    "FeatName3 = [list(nospec_df1.columns)]\n",
    "X_pca3 = [nospec_df1.loc[:,col] for col in FeatName3]\n",
    "X3 = np.stack(X_pca3, axis=1)\n",
    "\n"
   ]
  },
  {
   "cell_type": "code",
   "execution_count": 226,
   "metadata": {
    "collapsed": true
   },
   "outputs": [
    {
     "data": {
      "text/plain": [
       "array([[3.68854155e+03, 4.77446378e+03, 4.61060736e-02, ...,\n",
       "        0.00000000e+00, 4.45529372e-03, 6.95343661e+02],\n",
       "       [3.70984131e+03, 4.97553224e+03, 2.28141731e-01, ...,\n",
       "        0.00000000e+00, 1.60488189e-03, 7.58479031e+02],\n",
       "       [3.82844487e+03, 4.99581164e+03, 9.21785236e-02, ...,\n",
       "        0.00000000e+00, 5.48938071e-03, 8.74832747e+02],\n",
       "       ...,\n",
       "       [4.10968756e+03, 5.43303141e+03, 8.10267067e-02, ...,\n",
       "        0.00000000e+00, 5.15396723e-03, 1.34364924e+03],\n",
       "       [3.99003399e+03, 5.30485783e+03, 1.60709989e-01, ...,\n",
       "        0.00000000e+00, 2.47407148e-03, 1.31642435e+03],\n",
       "       [4.18969900e+03, 5.37222968e+03, 1.43504849e-01, ...,\n",
       "        0.00000000e+00, 0.00000000e+00, 1.35877891e+03]])"
      ]
     },
     "execution_count": 226,
     "metadata": {},
     "output_type": "execute_result"
    }
   ],
   "source": [
    "X2=np.squeeze(X2)\n",
    "X3 = np.squeeze(X3)\n",
    "#X3.shape\n",
    "#X2=np.nan_to_num(X2)\n",
    "X2.astype(float)\n",
    "X3.astype(float)"
   ]
  },
  {
   "cell_type": "code",
   "execution_count": 290,
   "metadata": {},
   "outputs": [
    {
     "name": "stderr",
     "output_type": "stream",
     "text": [
      "/home/ammanas/anaconda_3/envs/geralt/lib/python2.7/site-packages/ipykernel_launcher.py:1: FutureWarning: Method .as_matrix will be removed in a future version. Use .values instead.\n",
      "  \"\"\"Entry point for launching an IPython kernel.\n",
      "/home/ammanas/anaconda_3/envs/geralt/lib/python2.7/site-packages/ipykernel_launcher.py:2: FutureWarning: Method .as_matrix will be removed in a future version. Use .values instead.\n",
      "  \n"
     ]
    }
   ],
   "source": [
    "X2=lda_table1.replace([np.inf, -np.inf], np.nan).fillna(0).astype('float').abs().as_matrix()\n",
    "X3 = nospec_df1.replace([np.inf, -np.inf], np.nan).fillna(0).astype('float').abs().as_matrix()\n",
    "lda_table1.to_pickle('ldatable.pkl')\n",
    "nospec_df1.to_pickle('nospec_df.pkl')\n",
    "y_df.to_pickle('calltype.pkl')"
   ]
  },
  {
   "cell_type": "code",
   "execution_count": 287,
   "metadata": {},
   "outputs": [
    {
     "data": {
      "text/plain": [
       "<matplotlib.legend.Legend at 0x7f444c833fd0>"
      ]
     },
     "execution_count": 287,
     "metadata": {},
     "output_type": "execute_result"
    },
    {
     "data": {
      "image/png": "[encoded data removed]",
      "text/plain": [
       "<Figure size 432x288 with 1 Axes>"
      ]
     },
     "metadata": {
      "needs_background": "light"
     },
     "output_type": "display_data"
    }
   ],
   "source": [
    "pca2 = PCA(n_components=100)\n",
    "\n",
    "Xr2 = pca.fit_transform(X2)\n",
    "\n",
    "color= ['red' if l == 'short' else 'green' if l == 'trill' else 'blue' for l in y]\n",
    "plt.scatter(Xr2[:, 0], Xr2[:, 1],color=color)\n",
    "plt.xlabel('component 1')\n",
    "plt.ylabel('component 2')\n",
    "\n",
    "plt.legend(leg)\n"
   ]
  },
  {
   "cell_type": "code",
   "execution_count": 288,
   "metadata": {},
   "outputs": [],
   "source": [
    "# Now let's run LDA with class discriminator.\n",
    "from sklearn.discriminant_analysis import LinearDiscriminantAnalysis as LDA\n",
    "from sklearn.model_selection import train_test_split\n",
    "\n",
    "X_train, X_test, y_train, y_test = train_test_split(X2[0:152], y, test_size=0.1, random_state=0)  \n",
    "from sklearn.preprocessing import StandardScaler\n",
    "\n",
    "sc = StandardScaler()  \n",
    "X_train = sc.fit_transform(X_train)  \n",
    "X_test = sc.transform(X_test)  \n",
    "\n",
    "lda = LDA(n_components=6)  \n",
    "X_train = lda.fit_transform(X_train, y_train)  \n",
    "X_test = lda.transform(X_test)  "
   ]
  },
  {
   "cell_type": "code",
   "execution_count": 258,
   "metadata": {},
   "outputs": [],
   "source": [
    "from sklearn.ensemble import RandomForestClassifier\n",
    "\n",
    "classifier = RandomForestClassifier(max_depth=2, random_state=0)\n",
    "\n",
    "classifier.fit(X_train, y_train)  \n",
    "y_pred = classifier.predict(X_test)  "
   ]
  },
  {
   "cell_type": "code",
   "execution_count": 259,
   "metadata": {},
   "outputs": [
    {
     "name": "stdout",
     "output_type": "stream",
     "text": [
      "[[4 1 1]\n",
      " [0 4 0]\n",
      " [0 0 6]]\n",
      "Accuracy0.875\n"
     ]
    }
   ],
   "source": [
    "from sklearn.metrics import confusion_matrix  \n",
    "from sklearn.metrics import accuracy_score\n",
    "\n",
    "cm = confusion_matrix(y_test, y_pred)  \n",
    "print(cm)  \n",
    "print('Accuracy' + str(accuracy_score(y_test, y_pred)))  "
   ]
  },
  {
   "cell_type": "markdown",
   "metadata": {},
   "source": [
    "## PCA/LDA with ONLY mps components added on (no spectral data included)"
   ]
  },
  {
   "cell_type": "code",
   "execution_count": 289,
   "metadata": {},
   "outputs": [
    {
     "data": {
      "text/plain": [
       "Text(0,0.5,'component 2')"
      ]
     },
     "execution_count": 289,
     "metadata": {},
     "output_type": "execute_result"
    },
    {
     "data": {
      "image/png": "[encoded data removed]",
      "text/plain": [
       "<Figure size 432x288 with 1 Axes>"
      ]
     },
     "metadata": {
      "needs_background": "light"
     },
     "output_type": "display_data"
    }
   ],
   "source": [
    "pca3 = PCA(n_components=140)\n",
    "y_df = pd.DataFrame(y)\n",
    "y_df.columns=['calltype']\n",
    "plotting_df = pd.concat([nospec_df1,y_df],axis=1)\n",
    "Xr3 = pca.fit_transform(X3)\n",
    "\n",
    "color= ['red' if l == 'short' else 'green' if l == 'trill' else 'blue' for l in y]\n",
    "plt.scatter(Xr3[:, 0], Xr3[:, 1],color=color)\n",
    "plt.xlabel('component 1')\n",
    "plt.ylabel('component 2')"
   ]
  },
  {
   "cell_type": "code",
   "execution_count": 256,
   "metadata": {},
   "outputs": [
    {
     "name": "stdout",
     "output_type": "stream",
     "text": [
      "[[4 1 1]\n",
      " [2 2 0]\n",
      " [0 0 6]]\n",
      "Accuracy0.75\n"
     ]
    }
   ],
   "source": [
    "#### LDA for data without spectrogram information\n",
    "\n",
    "from sklearn.discriminant_analysis import LinearDiscriminantAnalysis as LDA\n",
    "from sklearn.model_selection import train_test_split\n",
    "\n",
    "X_train, X_test, y_train, y_test = train_test_split(X3[0:152], y, test_size=0.1, random_state=0)  \n",
    "from sklearn.preprocessing import StandardScaler\n",
    "\n",
    "sc = StandardScaler()  \n",
    "X_train = sc.fit_transform(X_train)  \n",
    "X_test = sc.transform(X_test)  \n",
    "\n",
    "lda = LDA(n_components=6)  \n",
    "X_train = lda.fit_transform(X_train, y_train)  \n",
    "X_test = lda.transform(X_test)  \n",
    "\n",
    "from sklearn.ensemble import RandomForestClassifier\n",
    "\n",
    "classifier = RandomForestClassifier(max_depth=2, random_state=0)\n",
    "\n",
    "classifier.fit(X_train, y_train)  \n",
    "y_pred = classifier.predict(X_test)  \n",
    "\n",
    "from sklearn.metrics import confusion_matrix  \n",
    "from sklearn.metrics import accuracy_score\n",
    "\n",
    "cm = confusion_matrix(y_test, y_pred)  \n",
    "print(cm)  \n",
    "print('Accuracy' + str(accuracy_score(y_test, y_pred)))  "
   ]
  },
  {
   "cell_type": "code",
   "execution_count": null,
   "metadata": {},
   "outputs": [],
   "source": []
  }
 ],
 "metadata": {
  "kernelspec": {
   "display_name": "Python 3",
   "language": "python",
   "name": "python3"
  },
  "language_info": {
   "codemirror_mode": {
    "name": "ipython",
    "version": 2
   },
   "file_extension": ".py",
   "mimetype": "text/x-python",
   "name": "python",
   "nbconvert_exporter": "python",
   "pygments_lexer": "ipython2",
   "version": "2.7.15"
  }
 },
 "nbformat": 4,
 "nbformat_minor": 2
}
